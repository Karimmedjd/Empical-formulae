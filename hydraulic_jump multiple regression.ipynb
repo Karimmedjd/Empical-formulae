{
 "cells": [
  {
   "cell_type": "code",
   "execution_count": 12,
   "id": "9c6df7cc",
   "metadata": {},
   "outputs": [],
   "source": [
    "import os\n",
    "import pandas as pd\n",
    "import numpy as np\n",
    "import matplotlib.pyplot as plt\n",
    "from sklearn import linear_model\n",
    "from matplotlib import rcParams"
   ]
  },
  {
   "cell_type": "code",
   "execution_count": 2,
   "id": "f8af8581",
   "metadata": {},
   "outputs": [],
   "source": [
    "hydraulic_jump = pd.ExcelFile('hydraulic_jump_data.xlsx')"
   ]
  },
  {
   "cell_type": "code",
   "execution_count": 3,
   "id": "c797288a",
   "metadata": {},
   "outputs": [
    {
     "data": {
      "text/plain": [
       "['Sheet1', 'Sheet2', 'Sheet3', 'Sheet4', 'Sheet5', 'Sheet6', 'Sheet7']"
      ]
     },
     "execution_count": 3,
     "metadata": {},
     "output_type": "execute_result"
    }
   ],
   "source": [
    "hydraulic_jump.sheet_names"
   ]
  },
  {
   "cell_type": "code",
   "execution_count": 4,
   "id": "7c045631",
   "metadata": {},
   "outputs": [],
   "source": [
    "table1 = hydraulic_jump.parse('Sheet1', skiprows = 4)  #Experimental values expressing the relationship between Lr*/h1 and the Froude number for (h0 / h2 ) ≥ 1\n",
    "table2 = hydraulic_jump.parse('Sheet2', skiprows = 4)  #Experimental values expressing the relationship between Lr * / h1 and the Froude number for h0 / h2<1\n",
    "table3 = hydraulic_jump.parse('Sheet3', skiprows = 4)  #Experimental values used to plot the curves Y = f (Fr1) for (h0 / h2 ≥ 1) conjugated heights \n",
    "table4 = hydraulic_jump.parse('Sheet4', skiprows = 4)  #Experimental values used to plot the curves Y = f (Fr1) for  (h0 / h2<1) conjugate heights\n",
    "table5 = hydraulic_jump.parse('Sheet5', skiprows = 4)  #Experimental values used to draw the curves y = f (X) for h0 / h2 ≥1\n",
    "table6 = hydraulic_jump.parse('Sheet6', skiprows = 4)  #Experimental values used to draw the curves y = f (X) for h0 / h2 ˂ 1\n",
    "table7 = hydraulic_jump.parse('Sheet7', skiprows = 4)  #classes"
   ]
  },
  {
   "cell_type": "code",
   "execution_count": 5,
   "id": "3cfefef2",
   "metadata": {},
   "outputs": [
    {
     "data": {
      "text/html": [
       "<div>\n",
       "<style scoped>\n",
       "    .dataframe tbody tr th:only-of-type {\n",
       "        vertical-align: middle;\n",
       "    }\n",
       "\n",
       "    .dataframe tbody tr th {\n",
       "        vertical-align: top;\n",
       "    }\n",
       "\n",
       "    .dataframe thead th {\n",
       "        text-align: right;\n",
       "    }\n",
       "</style>\n",
       "<table border=\"1\" class=\"dataframe\">\n",
       "  <thead>\n",
       "    <tr style=\"text-align: right;\">\n",
       "      <th></th>\n",
       "      <th>Lr*/h1</th>\n",
       "      <th>Fr1</th>\n",
       "      <th>Lr*/h1.1</th>\n",
       "      <th>Fr1.1</th>\n",
       "      <th>Lr*/h1.2</th>\n",
       "      <th>Fr1.2</th>\n",
       "      <th>Lr*/h1.3</th>\n",
       "      <th>Fr1.3</th>\n",
       "      <th>Lr*/h1.4</th>\n",
       "      <th>Fr1.4</th>\n",
       "      <th>Lr*/h1.5</th>\n",
       "      <th>Fr1.5</th>\n",
       "    </tr>\n",
       "  </thead>\n",
       "  <tbody>\n",
       "    <tr>\n",
       "      <th>0</th>\n",
       "      <td>52.00</td>\n",
       "      <td>8.50</td>\n",
       "      <td>49.0</td>\n",
       "      <td>8.50</td>\n",
       "      <td>72.0</td>\n",
       "      <td>10.56</td>\n",
       "      <td>74.5</td>\n",
       "      <td>11.07</td>\n",
       "      <td>70.0</td>\n",
       "      <td>10.69</td>\n",
       "      <td>53.0</td>\n",
       "      <td>8.61</td>\n",
       "    </tr>\n",
       "    <tr>\n",
       "      <th>1</th>\n",
       "      <td>59.50</td>\n",
       "      <td>9.45</td>\n",
       "      <td>57.5</td>\n",
       "      <td>9.45</td>\n",
       "      <td>75.0</td>\n",
       "      <td>11.07</td>\n",
       "      <td>76.5</td>\n",
       "      <td>11.32</td>\n",
       "      <td>53.5</td>\n",
       "      <td>8.85</td>\n",
       "      <td>55.0</td>\n",
       "      <td>8.97</td>\n",
       "    </tr>\n",
       "    <tr>\n",
       "      <th>2</th>\n",
       "      <td>67.50</td>\n",
       "      <td>10.19</td>\n",
       "      <td>61.5</td>\n",
       "      <td>9.82</td>\n",
       "      <td>77.5</td>\n",
       "      <td>11.20</td>\n",
       "      <td>78.0</td>\n",
       "      <td>11.45</td>\n",
       "      <td>61.5</td>\n",
       "      <td>9.57</td>\n",
       "      <td>57.5</td>\n",
       "      <td>9.45</td>\n",
       "    </tr>\n",
       "    <tr>\n",
       "      <th>3</th>\n",
       "      <td>69.00</td>\n",
       "      <td>10.44</td>\n",
       "      <td>69.5</td>\n",
       "      <td>10.56</td>\n",
       "      <td>79.0</td>\n",
       "      <td>11.32</td>\n",
       "      <td>52.0</td>\n",
       "      <td>8.50</td>\n",
       "      <td>62.0</td>\n",
       "      <td>9.57</td>\n",
       "      <td>54.5</td>\n",
       "      <td>9.09</td>\n",
       "    </tr>\n",
       "    <tr>\n",
       "      <th>4</th>\n",
       "      <td>52.25</td>\n",
       "      <td>8.61</td>\n",
       "      <td>71.0</td>\n",
       "      <td>10.69</td>\n",
       "      <td>80.5</td>\n",
       "      <td>11.45</td>\n",
       "      <td>55.0</td>\n",
       "      <td>8.97</td>\n",
       "      <td>66.0</td>\n",
       "      <td>9.94</td>\n",
       "      <td>58.0</td>\n",
       "      <td>9.45</td>\n",
       "    </tr>\n",
       "    <tr>\n",
       "      <th>5</th>\n",
       "      <td>58.00</td>\n",
       "      <td>9.33</td>\n",
       "      <td>76.0</td>\n",
       "      <td>11.07</td>\n",
       "      <td>58.5</td>\n",
       "      <td>9.33</td>\n",
       "      <td>59.5</td>\n",
       "      <td>9.57</td>\n",
       "      <td>67.0</td>\n",
       "      <td>10.06</td>\n",
       "      <td>61.5</td>\n",
       "      <td>9.57</td>\n",
       "    </tr>\n",
       "    <tr>\n",
       "      <th>6</th>\n",
       "      <td>60.50</td>\n",
       "      <td>9.69</td>\n",
       "      <td>50.0</td>\n",
       "      <td>8.38</td>\n",
       "      <td>60.0</td>\n",
       "      <td>9.57</td>\n",
       "      <td>62.5</td>\n",
       "      <td>9.82</td>\n",
       "      <td>69.0</td>\n",
       "      <td>10.44</td>\n",
       "      <td>65.0</td>\n",
       "      <td>9.82</td>\n",
       "    </tr>\n",
       "    <tr>\n",
       "      <th>7</th>\n",
       "      <td>63.50</td>\n",
       "      <td>9.94</td>\n",
       "      <td>55.0</td>\n",
       "      <td>9.09</td>\n",
       "      <td>67.0</td>\n",
       "      <td>10.06</td>\n",
       "      <td>64.0</td>\n",
       "      <td>10.06</td>\n",
       "      <td>70.0</td>\n",
       "      <td>10.56</td>\n",
       "      <td>NaN</td>\n",
       "      <td>NaN</td>\n",
       "    </tr>\n",
       "    <tr>\n",
       "      <th>8</th>\n",
       "      <td>66.00</td>\n",
       "      <td>10.31</td>\n",
       "      <td>65.0</td>\n",
       "      <td>10.06</td>\n",
       "      <td>70.5</td>\n",
       "      <td>10.56</td>\n",
       "      <td>69.0</td>\n",
       "      <td>10.44</td>\n",
       "      <td>71.0</td>\n",
       "      <td>10.69</td>\n",
       "      <td>NaN</td>\n",
       "      <td>NaN</td>\n",
       "    </tr>\n",
       "    <tr>\n",
       "      <th>9</th>\n",
       "      <td>56.50</td>\n",
       "      <td>9.33</td>\n",
       "      <td>68.0</td>\n",
       "      <td>10.44</td>\n",
       "      <td>73.5</td>\n",
       "      <td>10.81</td>\n",
       "      <td>69.5</td>\n",
       "      <td>10.56</td>\n",
       "      <td>74.0</td>\n",
       "      <td>10.94</td>\n",
       "      <td>NaN</td>\n",
       "      <td>NaN</td>\n",
       "    </tr>\n",
       "  </tbody>\n",
       "</table>\n",
       "</div>"
      ],
      "text/plain": [
       "   Lr*/h1    Fr1  Lr*/h1.1  Fr1.1  Lr*/h1.2  Fr1.2  Lr*/h1.3  Fr1.3  Lr*/h1.4  \\\n",
       "0   52.00   8.50      49.0   8.50      72.0  10.56      74.5  11.07      70.0   \n",
       "1   59.50   9.45      57.5   9.45      75.0  11.07      76.5  11.32      53.5   \n",
       "2   67.50  10.19      61.5   9.82      77.5  11.20      78.0  11.45      61.5   \n",
       "3   69.00  10.44      69.5  10.56      79.0  11.32      52.0   8.50      62.0   \n",
       "4   52.25   8.61      71.0  10.69      80.5  11.45      55.0   8.97      66.0   \n",
       "5   58.00   9.33      76.0  11.07      58.5   9.33      59.5   9.57      67.0   \n",
       "6   60.50   9.69      50.0   8.38      60.0   9.57      62.5   9.82      69.0   \n",
       "7   63.50   9.94      55.0   9.09      67.0  10.06      64.0  10.06      70.0   \n",
       "8   66.00  10.31      65.0  10.06      70.5  10.56      69.0  10.44      71.0   \n",
       "9   56.50   9.33      68.0  10.44      73.5  10.81      69.5  10.56      74.0   \n",
       "\n",
       "   Fr1.4  Lr*/h1.5  Fr1.5  \n",
       "0  10.69      53.0   8.61  \n",
       "1   8.85      55.0   8.97  \n",
       "2   9.57      57.5   9.45  \n",
       "3   9.57      54.5   9.09  \n",
       "4   9.94      58.0   9.45  \n",
       "5  10.06      61.5   9.57  \n",
       "6  10.44      65.0   9.82  \n",
       "7  10.56       NaN    NaN  \n",
       "8  10.69       NaN    NaN  \n",
       "9  10.94       NaN    NaN  "
      ]
     },
     "execution_count": 5,
     "metadata": {},
     "output_type": "execute_result"
    }
   ],
   "source": [
    "table2"
   ]
  },
  {
   "cell_type": "code",
   "execution_count": 6,
   "id": "f711b207",
   "metadata": {},
   "outputs": [],
   "source": [
    "#t = ([table1['Fr1'], table1['Lr*/h1']], [table1['Fr1.1'], table1['Lr*/h1.1']])\n",
    "t1_1 = np.vstack([table1['Fr1'], table1['Lr*/h1']])\n",
    "t1_2 = np.vstack([table1['Fr1.1'], table1['Lr*/h1.1']])\n",
    "t1_3 = np.vstack([table1['Fr1.2'], table1['Lr*/h1.2']])\n",
    "t1_4 = np.vstack([table1['Fr1.3'], table1['Lr*/h1.3']])\n",
    "t1_5 = np.vstack([table1['Fr1.4'], table1['Lr*/h1.4']])\n",
    "t1_6 = np.vstack([table1['Fr1.5'], table1['Lr*/h1.5']])\n",
    "\n",
    "t2_1 = np.vstack([table2['Fr1'], table2['Lr*/h1']])\n",
    "t2_2 = np.vstack([table2['Fr1.1'], table2['Lr*/h1.1']])\n",
    "t2_3 = np.vstack([table2['Fr1.2'], table2['Lr*/h1.2']])\n",
    "t2_4 = np.vstack([table2['Fr1.3'], table2['Lr*/h1.3']])\n",
    "t2_5 = np.vstack([table2['Fr1.4'], table2['Lr*/h1.4']])\n",
    "t2_6 = np.vstack([table2['Fr1.5'], table2['Lr*/h1.5']])\n"
   ]
  },
  {
   "cell_type": "code",
   "execution_count": 7,
   "id": "58192ce9",
   "metadata": {},
   "outputs": [],
   "source": [
    "t1 = np.hstack([t1_1, t1_2, t1_3, t1_4, t1_5, t1_6])\n",
    "\n",
    "t2 = np.hstack([t2_1, t2_2, t2_3, t2_4, t2_5, t2_6])"
   ]
  },
  {
   "cell_type": "code",
   "execution_count": 8,
   "id": "9b38a542",
   "metadata": {},
   "outputs": [],
   "source": [
    "table_1 = pd.DataFrame(t1).T\n",
    "table_2 = pd.DataFrame(t2).T\n",
    "#table_1"
   ]
  },
  {
   "cell_type": "code",
   "execution_count": 9,
   "id": "ba2bd95b",
   "metadata": {},
   "outputs": [],
   "source": [
    "table_1 = table_1.drop(index=[71])      # Fr vs Lr/h1     (h0 / h2 ) ≥ 1"
   ]
  },
  {
   "cell_type": "code",
   "execution_count": 10,
   "id": "d20d28c5",
   "metadata": {},
   "outputs": [],
   "source": [
    "table_2 = table_2.drop(index=[57,58,59])    # Fr vs Lr/h1      (h0 / h2 ) < 1"
   ]
  },
  {
   "cell_type": "code",
   "execution_count": null,
   "id": "ec1e61e8",
   "metadata": {},
   "outputs": [],
   "source": []
  },
  {
   "cell_type": "code",
   "execution_count": 13,
   "id": "d668c2ed",
   "metadata": {},
   "outputs": [
    {
     "data": {
      "text/plain": [
       "Text(0, 0.5, 'Lr*/h$_1$')"
      ]
     },
     "execution_count": 13,
     "metadata": {},
     "output_type": "execute_result"
    },
    {
     "data": {
      "image/png": "[encoded data removed]",
      "text/plain": [
       "<Figure size 720x432 with 1 Axes>"
      ]
     },
     "metadata": {
      "needs_background": "light"
     },
     "output_type": "display_data"
    }
   ],
   "source": [
    "plt.figure(figsize=(10,6))  #plot Lr*/h1 against Froud number Fr\n",
    "\n",
    "rcParams['font.family'] = 'sans-serif'\n",
    "\n",
    "\n",
    "plt.plot(table_1[0], table_1[1], 'o', color='red')\n",
    "plt.plot(table_2[0], table_2[1], 'o', color='blue')\n",
    "\n",
    "#draw line\n",
    "\n",
    "plt.xticks(np.arange(3,12, step=0.5))\n",
    "\n",
    "plt.xlabel('Fr', fontsize=26)\n",
    "plt.ylabel('Lr*/h$_1$', fontsize=26)\n"
   ]
  },
  {
   "cell_type": "code",
   "execution_count": 14,
   "id": "8ab95f80",
   "metadata": {},
   "outputs": [],
   "source": [
    "t3_1 = np.vstack([table3['Fr1'], table3['Y'], table3['δ']])\n",
    "t3_2 = np.vstack([table3['Fr1.1'], table3['Y.1'], table3['δ.1']])\n",
    "\n",
    "t4_1 = np.vstack([table4['Fr1'], table4['Y'], table4['δ']])\n",
    "t4_2 = np.vstack([table4['Fr1.1'], table4['Y.1'], table4['δ.1']])"
   ]
  },
  {
   "cell_type": "code",
   "execution_count": 15,
   "id": "19aa7f44",
   "metadata": {},
   "outputs": [],
   "source": [
    "t3 = np.hstack([t3_1, t3_2])   #Fr|Y |Segma\n",
    "t4 = np.hstack([t4_1, t4_2]) \n"
   ]
  },
  {
   "cell_type": "code",
   "execution_count": 16,
   "id": "a0e9b053",
   "metadata": {},
   "outputs": [],
   "source": [
    "t3 = pd.DataFrame(t3).T    #Fr|Y |Segma    Experimental values used to plot the curves Y = f (Fr1) for (h0 / h2 ≥ 1) conjugated heights\n",
    "t4 = pd.DataFrame(t4).T \n"
   ]
  },
  {
   "cell_type": "code",
   "execution_count": 17,
   "id": "de45b870",
   "metadata": {},
   "outputs": [],
   "source": [
    "table_3 = t3\n",
    "table_4 = t4.drop(t4.index[38:])   #drop rows (from row 38 to the last one)"
   ]
  },
  {
   "cell_type": "code",
   "execution_count": 18,
   "id": "cf2450bc",
   "metadata": {},
   "outputs": [
    {
     "data": {
      "text/plain": [
       "Text(0, 0.5, 'Y')"
      ]
     },
     "execution_count": 18,
     "metadata": {},
     "output_type": "execute_result"
    },
    {
     "data": {
      "image/png": "[encoded data removed]",
      "text/plain": [
       "<Figure size 576x432 with 1 Axes>"
      ]
     },
     "metadata": {
      "needs_background": "light"
     },
     "output_type": "display_data"
    }
   ],
   "source": [
    "plt.figure(figsize=(8,6))  #plot Lr*/h1 against Froud number Fr\n",
    "from matplotlib import rcParams\n",
    "rcParams['font.family'] = 'sans-serif'\n",
    "\n",
    "x = np.linspace(3,16,10)\n",
    "#y = np.zeros((10))\n",
    "\n",
    "\n",
    "y = (1/2)*(np.sqrt(1+8*x**2)-1)\n",
    "\n",
    "plt.plot(x, y, color='black', linestyle='dashed')\n",
    "\n",
    "plt.plot(table_3[0], table_3[1], 'o', color='red')\n",
    "plt.plot(table_4[0], table_4[1], 'o', color='blue')\n",
    "\n",
    "#plt.hlines(9,0,15, color='black')\n",
    "#plt.vlines(8,0,15, color='black')\n",
    "\n",
    "#draw line\n",
    "\n",
    "#plt.xticks(np.arange(3,12, step=0.5))\n",
    "\n",
    "plt.xlabel('Fr1', fontsize=26)\n",
    "plt.ylabel('Y', fontsize=26)\n"
   ]
  },
  {
   "cell_type": "markdown",
   "id": "ede2b067",
   "metadata": {},
   "source": []
  },
  {
   "cell_type": "code",
   "execution_count": null,
   "id": "6183839e",
   "metadata": {},
   "outputs": [],
   "source": [
    "var = 'LOG_Export_Price_Index_of_Gold ~ Time_Period' # I indicate the two variables (y ~ Fr), var → expr\n",
    "\n",
    "#Build and train the OLSR model: (ols regression)\n",
    "olsr_results = smf.ols(expr, gold_data).fit()        # I \n",
    "#Plot the residual errors (stored in the olsr_results.resid field) against the Time_Period:\n",
    "\n",
    "#Create a new pyplot figure to plot into\n",
    "fig = plt.figure(figsize=(10,5))\n",
    " \n",
    "\n",
    "fig.suptitle('Residual errors against Time_Period')  #the title of the figure\n",
    "plt.xlabel('Time_Period') #x axis label \n",
    "plt.plot(gold_data['Time_Period'], olsr_results.resid, 'go--', label='Residual Errors') #the plot \n",
    " \n",
    "plt.ylabel('Residual Errors')  #y axis label\n",
    " \n",
    "#Set up the legend. There is only one time series in the legend.\n",
    "plt.legend()\n",
    " \n",
    "#Show the plot\n",
    "plt.show()"
   ]
  },
  {
   "cell_type": "code",
   "execution_count": 22,
   "id": "ca3d1b32",
   "metadata": {},
   "outputs": [
    {
     "data": {
      "text/plain": [
       "Text(0.5, 1.0, 'Fr1 (Froude number) against Y (conjugate height)')"
      ]
     },
     "execution_count": 22,
     "metadata": {},
     "output_type": "execute_result"
    },
    {
     "data": {
      "image/png": "[encoded data removed]",
      "text/plain": [
       "<Figure size 576x432 with 2 Axes>"
      ]
     },
     "metadata": {
      "needs_background": "light"
     },
     "output_type": "display_data"
    }
   ],
   "source": [
    "fig = plt.figure(figsize=(8,6))\n",
    "plt.scatter(table_3[0], table_3[1],  marker='o', edgecolors='none',s=80,c=table_3[2], cmap=plt.cm.jet)\n",
    "plt.scatter(table_4[0], table_4[1],edgecolors='none',s=80,c=table_4[2], cmap=plt.cm.jet)\n",
    "\n",
    "\n",
    "plt.hlines(9,3,15, color='black')\n",
    "plt.vlines(8,3,21, color='black')\n",
    "\n",
    "x = np.linspace(3,16,10)\n",
    "#y = np.zeros((10))\n",
    "\n",
    "\n",
    "y = (1/2)*(np.sqrt(1+8*x**2)-1)\n",
    "\n",
    "plt.plot(x, y, color='black', linestyle='dashed')\n",
    "\n",
    "plt.xlabel('Fr1', fontsize=26)\n",
    "plt.ylabel('Y', fontsize=26)\n",
    "\n",
    "plt.xticks(fontsize=16)\n",
    "plt.yticks(fontsize=16)\n",
    "\n",
    "plt.colorbar()\n",
    "plt.title('Fr1 (Froude number) against Y (conjugate height)')"
   ]
  },
  {
   "cell_type": "code",
   "execution_count": 27,
   "id": "9954d9ae",
   "metadata": {
    "scrolled": true
   },
   "outputs": [
    {
     "name": "stdout",
     "output_type": "stream",
     "text": [
      "Karim is the Best,                 Karim is the Best,                 Karim is the Best,                 Karim is the Best,                 Karim is the Best,                 Karim is the Best,                 Karim is the Best,                 Karim is the Best,                 Karim is the Best,                 Karim is the Best,                 Karim is the Best,                 Karim is the Best,                 Karim is the Best,                 Karim is the Best,                 Karim is the Best,                 Karim is the Best,                 Karim is the Best,                 Karim is the Best,                 Karim is the Best,                 Karim is the Best,                 Karim is the Best,                 Karim is the Best,                 Karim is the Best,                 Karim is the Best,                 Karim is the Best,                 Karim is the Best,                 Karim is the Best,                 Karim is the Best,                 Karim is the Best,                 Karim is the Best,                 Karim is the Best,                 Karim is the Best,                 Karim is the Best,                 Karim is the Best,                 Karim is the Best,                 Karim is the Best,                 Karim is the Best,                 Karim is the Best,                 Karim is the Best,                 Karim is the Best,                 Karim is the Best,                 Karim is the Best,                 Karim is the Best,                 Karim is the Best,                 Karim is the Best,                 Karim is the Best,                 Karim is the Best,                 Karim is the Best,                 Karim is the Best,                 Karim is the Best,                 Karim is the Best,                 Karim is the Best,                 Karim is the Best,                 Karim is the Best,                 Karim is the Best,                 Karim is the Best,                 Karim is the Best,                 Karim is the Best,                 Karim is the Best,                 Karim is the Best,                 Karim is the Best,                 Karim is the Best,                 Karim is the Best,                 Karim is the Best,                 Karim is the Best,                 Karim is the Best,                 Karim is the Best,                 Karim is the Best,                 Karim is the Best,                 Karim is the Best,                 Karim is the Best,                 Karim is the Best,                 Karim is the Best,                 Karim is the Best,                 Karim is the Best,                 Karim is the Best,                 Karim is the Best,                 Karim is the Best,                 Karim is the Best,                 Karim is the Best,                 Karim is the Best,                 Karim is the Best,                 Karim is the Best,                 Karim is the Best,                 Karim is the Best,                 Karim is the Best,                 Karim is the Best,                 Karim is the Best,                 Karim is the Best,                 Karim is the Best,                 Karim is the Best,                 Karim is the Best,                 Karim is the Best,                 Karim is the Best,                 Karim is the Best,                 Karim is the Best,                 Karim is the Best,                 Karim is the Best,                 Karim is the Best,                 Karim is the Best,                 Karim is the Best,                 Karim is the Best,                 Karim is the Best,                 Karim is the Best,                 Karim is the Best,                 Karim is the Best,                 Karim is the Best,                 Karim is the Best,                 Karim is the Best,                 Karim is the Best,                 Karim is the Best,                 Karim is the Best,                 Karim is the Best,                 Karim is the Best,                 Karim is the Best,                 Karim is the Best,                 Karim is the Best,                 Karim is the Best,                 Karim is the Best,                 Karim is the Best,                 Karim is the Best,                 Karim is the Best,                 Karim is the Best,                 Karim is the Best,                 Karim is the Best,                 Karim is the Best,                 Karim is the Best,                 Karim is the Best,                 Karim is the Best,                 Karim is the Best,                 Karim is the Best,                 Karim is the Best,                 Karim is the Best,                 Karim is the Best,                 Karim is the Best,                 Karim is the Best,                 Karim is the Best,                 Karim is the Best,                 Karim is the Best,                 Karim is the Best,                 Karim is the Best,                 Karim is the Best,                 Karim is the Best,                 Karim is the Best,                 Karim is the Best,                 Karim is the Best,                 Karim is the Best,                 Karim is the Best,                 Karim is the Best,                 Karim is the Best,                 Karim is the Best,                 Karim is the Best,                 Karim is the Best,                 Karim is the Best,                 Karim is the Best,                 Karim is the Best,                 Karim is the Best,                 Karim is the Best,                 Karim is the Best,                 Karim is the Best,                 Karim is the Best,                 Karim is the Best,                 Karim is the Best,                 Karim is the Best,                 Karim is the Best,                 Karim is the Best,                 Karim is the Best,                 Karim is the Best,                 Karim is the Best,                 Karim is the Best,                 Karim is the Best,                 Karim is the Best,                 Karim is the Best,                 Karim is the Best,                 Karim is the Best,                 Karim is the Best,                 Karim is the Best,                 Karim is the Best,                 Karim is the Best,                 Karim is the Best,                 Karim is the Best,                 Karim is the Best,                 Karim is the Best,                 Karim is the Best,                 Karim is the Best,                 Karim is the Best,                 Karim is the Best,                 Karim is the Best,                 Karim is the Best,                 Karim is the Best,                 Karim is the Best,                 Karim is the Best,                 Karim is the Best,                 Karim is the Best,                 Karim is the Best,                 Karim is the Best,                 Karim is the Best,                 Karim is the Best,                 Karim is the Best,                 Karim is the Best,                 Karim is the Best,                 Karim is the Best,                 Karim is the Best,                 Karim is the Best,                 Karim is the Best,                 Karim is the Best,                 Karim is the Best,                 Karim is the Best,                 Karim is the Best,                 Karim is the Best,                 Karim is the Best,                 Karim is the Best,                 Karim is the Best,                 Karim is the Best,                 Karim is the Best,                 Karim is the Best,                 Karim is the Best,                 Karim is the Best,                 Karim is the Best,                 Karim is the Best,                 Karim is the Best,                 Karim is the Best,                 Karim is the Best,                 Karim is the Best,                 Karim is the Best,                 Karim is the Best,                 Karim is the Best,                 Karim is the Best,                 Karim is the Best,                 Karim is the Best,                 Karim is the Best,                 Karim is the Best,                 Karim is the Best,                 Karim is the Best,                 Karim is the Best,                 Karim is the Best,                 Karim is the Best,                 Karim is the Best,                 Karim is the Best,                 Karim is the Best,                 Karim is the Best,                 Karim is the Best,                 Karim is the Best,                 Karim is the Best,                 Karim is the Best,                 Karim is the Best,                 Karim is the Best,                 Karim is the Best,                 Karim is the Best,                 Karim is the Best,                 Karim is the Best,                 Karim is the Best,                 Karim is the Best,                 Karim is the Best,                 Karim is the Best,                 Karim is the Best,                 Karim is the Best,                 Karim is the Best,                 Karim is the Best,                 Karim is the Best,                 Karim is the Best,                 Karim is the Best,                 Karim is the Best,                 Karim is the Best,                 Karim is the Best,                 Karim is the Best,                 Karim is the Best,                 Karim is the Best,                 Karim is the Best,                 Karim is the Best,                 Karim is the Best,                 Karim is the Best,                 Karim is the Best,                 Karim is the Best,                 Karim is the Best,                 Karim is the Best,                 Karim is the Best,                 Karim is the Best,                 Karim is the Best,                 Karim is the Best,                 Karim is the Best,                 Karim is the Best,                 Karim is the Best,                 Karim is the Best,                 Karim is the Best,                 Karim is the Best,                 Karim is the Best,                 Karim is the Best,                 Karim is the Best,                 Karim is the Best,                 Karim is the Best,                 Karim is the Best,                 Karim is the Best,                 Karim is the Best,                 Karim is the Best,                 Karim is the Best,                 Karim is the Best,                 Karim is the Best,                 Karim is the Best,                 Karim is the Best,                 Karim is the Best,                 Karim is the Best,                 Karim is the Best,                 Karim is the Best,                 Karim is the Best,                 Karim is the Best,                 Karim is the Best,                 Karim is the Best,                 Karim is the Best,                 Karim is the Best,                 Karim is the Best,                 Karim is the Best,                 Karim is the Best,                 Karim is the Best,                 Karim is the Best,                 Karim is the Best,                 Karim is the Best,                 Karim is the Best,                 Karim is the Best,                 Karim is the Best,                 Karim is the Best,                 Karim is the Best,                 Karim is the Best,                 Karim is the Best,                 Karim is the Best,                 Karim is the Best,                 Karim is the Best,                 Karim is the Best,                 Karim is the Best,                 Karim is the Best,                 Karim is the Best,                 Karim is the Best,                 Karim is the Best,                 Karim is the Best,                 Karim is the Best,                 Karim is the Best,                 Karim is the Best,                 Karim is the Best,                 Karim is the Best,                 Karim is the Best,                 Karim is the Best,                 Karim is the Best,                 Karim is the Best,                 Karim is the Best,                 Karim is the Best,                 Karim is the Best,                 Karim is the Best,                 Karim is the Best,                 Karim is the Best,                 Karim is the Best,                 Karim is the Best,                 Karim is the Best,                 Karim is the Best,                 Karim is the Best,                 Karim is the Best,                 Karim is the Best,                 Karim is the Best,                 Karim is the Best,                 Karim is the Best,                 Karim is the Best,                 Karim is the Best,                 Karim is the Best,                 Karim is the Best,                 Karim is the Best,                 Karim is the Best,                 Karim is the Best,                 Karim is the Best,                 Karim is the Best,                 Karim is the Best,                 Karim is the Best,                 Karim is the Best,                 Karim is the Best,                 Karim is the Best,                 Karim is the Best,                 Karim is the Best,                 Karim is the Best,                 Karim is the Best,                 Karim is the Best,                 Karim is the Best,                 Karim is the Best,                 Karim is the Best,                 Karim is the Best,                 Karim is the Best,                 Karim is the Best,                 Karim is the Best,                 Karim is the Best,                 Karim is the Best,                 Karim is the Best,                 Karim is the Best,                 Karim is the Best,                 Karim is the Best,                 Karim is the Best,                 Karim is the Best,                 Karim is the Best,                 Karim is the Best,                 Karim is the Best,                 Karim is the Best,                 Karim is the Best,                 Karim is the Best,                 Karim is the Best,                 Karim is the Best,                 Karim is the Best,                 Karim is the Best,                 Karim is the Best,                 Karim is the Best,                 Karim is the Best,                 Karim is the Best,                 Karim is the Best,                 Karim is the Best,                 Karim is the Best,                 Karim is the Best,                 Karim is the Best,                 Karim is the Best,                 Karim is the Best,                 Karim is the Best,                 Karim is the Best,                 Karim is the Best,                 Karim is the Best,                 Karim is the Best,                 Karim is the Best,                 Karim is the Best,                 Karim is the Best,                 Karim is the Best,                 Karim is the Best,                 Karim is the Best,                 Karim is the Best,                 Karim is the Best,                 Karim is the Best,                 Karim is the Best,                 Karim is the Best,                 Karim is the Best,                 Karim is the Best,                 Karim is the Best,                 Karim is the Best,                 Karim is the Best,                 Karim is the Best,                 Karim is the Best,                 Karim is the Best,                 Karim is the Best,                 Karim is the Best,                 Karim is the Best,                 Karim is the Best,                 Karim is the Best,                 Karim is the Best,                 Karim is the Best,                 Karim is the Best,                 Karim is the Best,                 Karim is the Best,                 Karim is the Best,                 Karim is the Best,                 Karim is the Best,                 Karim is the Best,                 Karim is the Best,                 Karim is the Best,                 Karim is the Best,                 Karim is the Best,                 Karim is the Best,                 Karim is the Best,                 Karim is the Best,                 Karim is the Best,                 Karim is the Best,                 Karim is the Best,                 Karim is the Best,                 Karim is the Best,                 Karim is the Best,                 Karim is the Best,                 Karim is the Best,                 Karim is the Best,                 Karim is the Best,                 Karim is the Best,                 Karim is the Best,                 Karim is the Best,                 Karim is the Best,                 Karim is the Best,                 Karim is the Best,                 Karim is the Best,                 Karim is the Best,                 Karim is the Best,                 Karim is the Best,                 Karim is the Best,                 Karim is the Best,                 Karim is the Best,                 Karim is the Best,                 Karim is the Best,                 Karim is the Best,                 Karim is the Best,                 Karim is the Best,                 Karim is the Best,                 Karim is the Best,                 Karim is the Best,                 Karim is the Best,                 Karim is the Best,                 Karim is the Best,                 Karim is the Best,                 Karim is the Best,                 Karim is the Best,                 Karim is the Best,                 Karim is the Best,                 Karim is the Best,                 Karim is the Best,                 Karim is the Best,                 Karim is the Best,                 Karim is the Best,                 Karim is the Best,                 Karim is the Best,                 Karim is the Best,                 Karim is the Best,                 Karim is the Best,                 Karim is the Best,                 Karim is the Best,                 Karim is the Best,                 Karim is the Best,                 Karim is the Best,                 Karim is the Best,                 Karim is the Best,                 Karim is the Best,                 Karim is the Best,                 Karim is the Best,                 Karim is the Best,                 Karim is the Best,                 Karim is the Best,                 Karim is the Best,                 Karim is the Best,                 Karim is the Best,                 Karim is the Best,                 Karim is the Best,                 Karim is the Best,                 Karim is the Best,                 Karim is the Best,                 Karim is the Best,                 Karim is the Best,                 Karim is the Best,                 Karim is the Best,                 Karim is the Best,                 Karim is the Best,                 Karim is the Best,                 Karim is the Best,                 Karim is the Best,                 Karim is the Best,                 Karim is the Best,                 Karim is the Best,                 Karim is the Best,                 Karim is the Best,                 Karim is the Best,                 Karim is the Best,                 Karim is the Best,                 Karim is the Best,                 Karim is the Best,                 Karim is the Best,                 Karim is the Best,                 Karim is the Best,                 Karim is the Best,                 Karim is the Best,                 Karim is the Best,                 Karim is the Best,                 Karim is the Best,                 Karim is the Best,                 Karim is the Best,                 Karim is the Best,                 Karim is the Best,                 Karim is the Best,                 Karim is the Best,                 Karim is the Best,                 Karim is the Best,                 Karim is the Best,                 Karim is the Best,                 Karim is the Best,                 Karim is the Best,                 Karim is the Best,                 Karim is the Best,                 Karim is the Best,                 Karim is the Best,                 Karim is the Best,                 Karim is the Best,                 Karim is the Best,                 Karim is the Best,                 Karim is the Best,                 Karim is the Best,                 Karim is the Best,                 Karim is the Best,                 Karim is the Best,                 Karim is the Best,                 Karim is the Best,                 Karim is the Best,                 Karim is the Best,                 Karim is the Best,                 Karim is the Best,                 Karim is the Best,                 Karim is the Best,                 Karim is the Best,                 Karim is the Best,                 Karim is the Best,                 Karim is the Best,                 Karim is the Best,                 Karim is the Best,                 Karim is the Best,                 Karim is the Best,                 Karim is the Best,                 Karim is the Best,                 Karim is the Best,                 Karim is the Best,                 Karim is the Best,                 Karim is the Best,                 Karim is the Best,                 Karim is the Best,                 Karim is the Best,                 Karim is the Best,                 Karim is the Best,                 Karim is the Best,                 Karim is the Best,                 Karim is the Best,                 Karim is the Best,                 Karim is the Best,                 Karim is the Best,                 Karim is the Best,                 Karim is the Best,                 Karim is the Best,                 Karim is the Best,                 Karim is the Best,                 Karim is the Best,                 Karim is the Best,                 Karim is the Best,                 Karim is the Best,                 Karim is the Best,                 Karim is the Best,                 Karim is the Best,                 Karim is the Best,                 Karim is the Best,                 Karim is the Best,                 Karim is the Best,                 Karim is the Best,                 Karim is the Best,                 Karim is the Best,                 Karim is the Best,                 Karim is the Best,                 Karim is the Best,                 Karim is the Best,                 Karim is the Best,                 Karim is the Best,                 Karim is the Best,                 Karim is the Best,                 Karim is the Best,                 Karim is the Best,                 Karim is the Best,                 Karim is the Best,                 Karim is the Best,                 Karim is the Best,                 Karim is the Best,                 Karim is the Best,                 Karim is the Best,                 Karim is the Best,                 Karim is the Best,                 Karim is the Best,                 Karim is the Best,                 Karim is the Best,                 Karim is the Best,                 Karim is the Best,                 Karim is the Best,                 Karim is the Best,                 Karim is the Best,                 Karim is the Best,                 Karim is the Best,                 Karim is the Best,                 Karim is the Best,                 Karim is the Best,                 Karim is the Best,                 Karim is the Best,                 Karim is the Best,                 Karim is the Best,                 Karim is the Best,                 Karim is the Best,                 Karim is the Best,                 Karim is the Best,                 Karim is the Best,                 Karim is the Best,                 Karim is the Best,                 Karim is the Best,                 Karim is the Best,                 Karim is the Best,                 Karim is the Best,                 Karim is the Best,                 Karim is the Best,                 Karim is the Best,                 Karim is the Best,                 Karim is the Best,                 Karim is the Best,                 Karim is the Best,                 Karim is the Best,                 Karim is the Best,                 Karim is the Best,                 Karim is the Best,                 Karim is the Best,                 Karim is the Best,                 Karim is the Best,                 Karim is the Best,                 Karim is the Best,                 Karim is the Best,                 Karim is the Best,                 Karim is the Best,                 Karim is the Best,                 Karim is the Best,                 Karim is the Best,                 Karim is the Best,                 Karim is the Best,                 Karim is the Best,                 Karim is the Best,                 Karim is the Best,                 Karim is the Best,                 Karim is the Best,                 Karim is the Best,                 Karim is the Best,                 Karim is the Best,                 Karim is the Best,                 Karim is the Best,                 Karim is the Best,                 Karim is the Best,                 Karim is the Best,                 Karim is the Best,                 Karim is the Best,                 Karim is the Best,                 Karim is the Best,                 Karim is the Best,                 Karim is the Best,                 Karim is the Best,                 Karim is the Best,                 Karim is the Best,                 Karim is the Best,                 Karim is the Best,                 Karim is the Best,                 Karim is the Best,                 Karim is the Best,                 Karim is the Best,                 Karim is the Best,                 Karim is the Best,                 Karim is the Best,                 Karim is the Best,                 Karim is the Best,                 Karim is the Best,                 Karim is the Best,                 Karim is the Best,                 Karim is the Best,                 Karim is the Best,                 Karim is the Best,                 Karim is the Best,                 Karim is the Best,                 Karim is the Best,                 Karim is the Best,                 Karim is the Best,                 Karim is the Best,                 Karim is the Best,                 Karim is the Best,                 Karim is the Best,                 Karim is the Best,                 Karim is the Best,                 Karim is the Best,                 Karim is the Best,                 Karim is the Best,                 Karim is the Best,                 Karim is the Best,                 Karim is the Best,                 Karim is the Best,                 Karim is the Best,                 Karim is the Best,                 Karim is the Best,                 Karim is the Best,                 Karim is the Best,                 Karim is the Best,                 Karim is the Best,                 Karim is the Best,                 Karim is the Best,                 Karim is the Best,                 Karim is the Best,                 Karim is the Best,                 Karim is the Best,                 Karim is the Best,                 Karim is the Best,                 Karim is the Best,                 Karim is the Best,                 Karim is the Best,                 Karim is the Best,                 Karim is the Best,                 Karim is the Best,                 Karim is the Best,                 Karim is the Best,                 Karim is the Best,                 Karim is the Best,                 Karim is the Best,                 Karim is the Best,                 Karim is the Best,                 Karim is the Best,                 Karim is the Best,                 Karim is the Best,                 Karim is the Best,                 Karim is the Best,                 Karim is the Best,                 Karim is the Best,                 Karim is the Best,                 Karim is the Best,                 Karim is the Best,                 Karim is the Best,                 Karim is the Best,                 Karim is the Best,                 Karim is the Best,                 Karim is the Best,                 Karim is the Best,                 Karim is the Best,                 Karim is the Best,                 Karim is the Best,                 Karim is the Best,                 Karim is the Best,                 Karim is the Best,                 Karim is the Best,                 Karim is the Best,                 Karim is the Best,                 Karim is the Best,                 Karim is the Best,                 Karim is the Best,                 Karim is the Best,                 Karim is the Best,                 Karim is the Best,                 Karim is the Best,                 Karim is the Best,                 Karim is the Best,                 Karim is the Best,                 Karim is the Best,                 Karim is the Best,                 Karim is the Best,                 Karim is the Best,                 Karim is the Best,                 Karim is the Best,                 Karim is the Best,                 Karim is the Best,                 Karim is the Best,                 Karim is the Best,                 Karim is the Best,                 Karim is the Best,                 Karim is the Best,                 Karim is the Best,                 Karim is the Best,                 Karim is the Best,                 Karim is the Best,                 Karim is the Best,                 Karim is the Best,                 Karim is the Best,                 Karim is the Best,                 Karim is the Best,                 Karim is the Best,                 Karim is the Best,                 Karim is the Best,                 Karim is the Best,                 Karim is the Best,                 Karim is the Best,                 Karim is the Best,                 Karim is the Best,                 Karim is the Best,                 Karim is the Best,                 Karim is the Best,                 Karim is the Best,                 Karim is the Best,                 Karim is the Best,                 Karim is the Best,                 Karim is the Best,                 Karim is the Best,                 Karim is the Best,                 Karim is the Best,                 Karim is the Best,                 Karim is the Best,                 Karim is the Best,                 Karim is the Best,                 Karim is the Best,                 Karim is the Best,                 Karim is the Best,                 Karim is the Best,                 Karim is the Best,                 Karim is the Best,                 Karim is the Best,                 Karim is the Best,                 Karim is the Best,                 Karim is the Best,                 Karim is the Best,                 Karim is the Best,                 Karim is the Best,                 Karim is the Best,                 Karim is the Best,                 Karim is the Best,                 Karim is the Best,                 Karim is the Best,                 Karim is the Best,                 Karim is the Best,                 Karim is the Best,                 Karim is the Best,                 Karim is the Best,                 Karim is the Best,                 Karim is the Best,                 Karim is the Best,                 Karim is the Best,                 Karim is the Best,                 Karim is the Best,                 Karim is the Best,                 Karim is the Best,                 Karim is the Best,                 Karim is the Best,                 Karim is the Best,                 Karim is the Best,                 Karim is the Best,                 Karim is the Best,                 Karim is the Best,                 Karim is the Best,                 Karim is the Best,                 Karim is the Best,                 Karim is the Best,                 Karim is the Best,                 Karim is the Best,                 Karim is the Best,                 Karim is the Best,                 Karim is the Best,                 Karim is the Best,                 Karim is the Best,                 Karim is the Best,                 Karim is the Best,                 Karim is the Best,                 Karim is the Best,                 Karim is the Best,                 Karim is the Best,                 Karim is the Best,                 Karim is the Best,                 Karim is the Best,                 Karim is the Best,                 Karim is the Best,                 Karim is the Best,                 Karim is the Best,                 Karim is the Best,                 Karim is the Best,                 Karim is the Best,                 Karim is the Best,                 Karim is the Best,                 Karim is the Best,                 Karim is the Best,                 Karim is the Best,                 Karim is the Best,                 Karim is the Best,                 Karim is the Best,                 Karim is the Best,                 Karim is the Best,                 Karim is the Best,                 Karim is the Best,                 Karim is the Best,                 Karim is the Best,                 Karim is the Best,                 Karim is the Best,                 Karim is the Best,                 Karim is the Best,                 Karim is the Best,                 Karim is the Best,                 Karim is the Best,                 Karim is the Best,                 Karim is the Best,                 Karim is the Best,                 Karim is the Best,                 Karim is the Best,                 Karim is the Best,                 Karim is the Best,                 Karim is the Best,                 Karim is the Best,                 Karim is the Best,                 Karim is the Best,                 Karim is the Best,                 Karim is the Best,                 Karim is the Best,                 Karim is the Best,                 Karim is the Best,                 Karim is the Best,                 Karim is the Best,                 Karim is the Best,                 Karim is the Best,                 Karim is the Best,                 Karim is the Best,                 Karim is the Best,                 Karim is the Best,                 Karim is the Best,                 Karim is the Best,                 Karim is the Best,                 Karim is the Best,                 Karim is the Best,                 Karim is the Best,                 Karim is the Best,                 Karim is the Best,                 Karim is the Best,                 Karim is the Best,                 Karim is the Best,                 Karim is the Best,                 Karim is the Best,                 Karim is the Best,                 Karim is the Best,                 Karim is the Best,                 Karim is the Best,                 Karim is the Best,                 Karim is the Best,                 Karim is the Best,                 \n"
     ]
    }
   ],
   "source": [
    "print(\"Karim is the Best,                 \"* 999)"
   ]
  },
  {
   "cell_type": "code",
   "execution_count": 52,
   "id": "0d906751",
   "metadata": {},
   "outputs": [
    {
     "name": "stdout",
     "output_type": "stream",
     "text": [
      "[ 1.23376037 -1.49462279]\n"
     ]
    }
   ],
   "source": [
    "import pandas\n",
    "\n",
    "X = table_3[[0, 2]]\n",
    "y = table_3[1]\n",
    "\n",
    "regr = linear_model.LinearRegression()     #select the model and name it\n",
    "regr.fit(X, y)                             #select the dataset (the two variables, and one variable)\n",
    "\n",
    "print(regr.coef_)"
   ]
  },
  {
   "cell_type": "code",
   "execution_count": null,
   "id": "5b061b7b",
   "metadata": {},
   "outputs": [],
   "source": []
  },
  {
   "cell_type": "code",
   "execution_count": 410,
   "id": "5979859c",
   "metadata": {},
   "outputs": [
    {
     "data": {
      "text/plain": [
       "array([3.93225274])"
      ]
     },
     "execution_count": 410,
     "metadata": {},
     "output_type": "execute_result"
    }
   ],
   "source": [
    "pred = regr.predict([[3.67, 0.91]])\n",
    "pred"
   ]
  },
  {
   "cell_type": "code",
   "execution_count": 47,
   "id": "0877c805",
   "metadata": {},
   "outputs": [],
   "source": [
    "a = [1,2,3,4,5,6,7,8,9]\n",
    "b = [2,4,6,8,10,12,14,16,18]\n",
    "ds = pd.DataFrame(np.array((a,b))).T"
   ]
  },
  {
   "cell_type": "code",
   "execution_count": 51,
   "id": "bedd1926",
   "metadata": {},
   "outputs": [
    {
     "data": {
      "text/plain": [
       "0     2\n",
       "1     4\n",
       "2     6\n",
       "3     8\n",
       "4    10\n",
       "5    12\n",
       "6    14\n",
       "7    16\n",
       "8    18\n",
       "Name: 1, dtype: int64"
      ]
     },
     "execution_count": 51,
     "metadata": {},
     "output_type": "execute_result"
    }
   ],
   "source": [
    "ds[1]"
   ]
  },
  {
   "cell_type": "code",
   "execution_count": 48,
   "id": "932702ec",
   "metadata": {},
   "outputs": [
    {
     "ename": "ValueError",
     "evalue": "Expected 2D array, got 1D array instead:\narray=[1 2 3 4 5 6 7 8 9].\nReshape your data either using array.reshape(-1, 1) if your data has a single feature or array.reshape(1, -1) if it contains a single sample.",
     "output_type": "error",
     "traceback": [
      "\u001b[0;31m---------------------------------------------------------------------------\u001b[0m",
      "\u001b[0;31mValueError\u001b[0m                                Traceback (most recent call last)",
      "\u001b[0;32m/tmp/ipykernel_436/1595101787.py\u001b[0m in \u001b[0;36m<module>\u001b[0;34m\u001b[0m\n\u001b[1;32m      1\u001b[0m \u001b[0mnee\u001b[0m \u001b[0;34m=\u001b[0m \u001b[0mlinear_model\u001b[0m\u001b[0;34m.\u001b[0m\u001b[0mLinearRegression\u001b[0m\u001b[0;34m(\u001b[0m\u001b[0;34m)\u001b[0m\u001b[0;34m\u001b[0m\u001b[0;34m\u001b[0m\u001b[0m\n\u001b[0;32m----> 2\u001b[0;31m \u001b[0mnee\u001b[0m\u001b[0;34m.\u001b[0m\u001b[0mfit\u001b[0m\u001b[0;34m(\u001b[0m\u001b[0mds\u001b[0m\u001b[0;34m[\u001b[0m\u001b[0;36m0\u001b[0m\u001b[0;34m]\u001b[0m\u001b[0;34m,\u001b[0m \u001b[0mds\u001b[0m\u001b[0;34m[\u001b[0m\u001b[0;36m1\u001b[0m\u001b[0;34m]\u001b[0m\u001b[0;34m)\u001b[0m\u001b[0;34m\u001b[0m\u001b[0;34m\u001b[0m\u001b[0m\n\u001b[0m",
      "\u001b[0;32m~/anaconda3/lib/python3.9/site-packages/sklearn/linear_model/_base.py\u001b[0m in \u001b[0;36mfit\u001b[0;34m(self, X, y, sample_weight)\u001b[0m\n\u001b[1;32m    516\u001b[0m         \u001b[0maccept_sparse\u001b[0m \u001b[0;34m=\u001b[0m \u001b[0;32mFalse\u001b[0m \u001b[0;32mif\u001b[0m \u001b[0mself\u001b[0m\u001b[0;34m.\u001b[0m\u001b[0mpositive\u001b[0m \u001b[0;32melse\u001b[0m \u001b[0;34m[\u001b[0m\u001b[0;34m'csr'\u001b[0m\u001b[0;34m,\u001b[0m \u001b[0;34m'csc'\u001b[0m\u001b[0;34m,\u001b[0m \u001b[0;34m'coo'\u001b[0m\u001b[0;34m]\u001b[0m\u001b[0;34m\u001b[0m\u001b[0;34m\u001b[0m\u001b[0m\n\u001b[1;32m    517\u001b[0m \u001b[0;34m\u001b[0m\u001b[0m\n\u001b[0;32m--> 518\u001b[0;31m         X, y = self._validate_data(X, y, accept_sparse=accept_sparse,\n\u001b[0m\u001b[1;32m    519\u001b[0m                                    y_numeric=True, multi_output=True)\n\u001b[1;32m    520\u001b[0m \u001b[0;34m\u001b[0m\u001b[0m\n",
      "\u001b[0;32m~/anaconda3/lib/python3.9/site-packages/sklearn/base.py\u001b[0m in \u001b[0;36m_validate_data\u001b[0;34m(self, X, y, reset, validate_separately, **check_params)\u001b[0m\n\u001b[1;32m    431\u001b[0m                 \u001b[0my\u001b[0m \u001b[0;34m=\u001b[0m \u001b[0mcheck_array\u001b[0m\u001b[0;34m(\u001b[0m\u001b[0my\u001b[0m\u001b[0;34m,\u001b[0m \u001b[0;34m**\u001b[0m\u001b[0mcheck_y_params\u001b[0m\u001b[0;34m)\u001b[0m\u001b[0;34m\u001b[0m\u001b[0;34m\u001b[0m\u001b[0m\n\u001b[1;32m    432\u001b[0m             \u001b[0;32melse\u001b[0m\u001b[0;34m:\u001b[0m\u001b[0;34m\u001b[0m\u001b[0;34m\u001b[0m\u001b[0m\n\u001b[0;32m--> 433\u001b[0;31m                 \u001b[0mX\u001b[0m\u001b[0;34m,\u001b[0m \u001b[0my\u001b[0m \u001b[0;34m=\u001b[0m \u001b[0mcheck_X_y\u001b[0m\u001b[0;34m(\u001b[0m\u001b[0mX\u001b[0m\u001b[0;34m,\u001b[0m \u001b[0my\u001b[0m\u001b[0;34m,\u001b[0m \u001b[0;34m**\u001b[0m\u001b[0mcheck_params\u001b[0m\u001b[0;34m)\u001b[0m\u001b[0;34m\u001b[0m\u001b[0;34m\u001b[0m\u001b[0m\n\u001b[0m\u001b[1;32m    434\u001b[0m             \u001b[0mout\u001b[0m \u001b[0;34m=\u001b[0m \u001b[0mX\u001b[0m\u001b[0;34m,\u001b[0m \u001b[0my\u001b[0m\u001b[0;34m\u001b[0m\u001b[0;34m\u001b[0m\u001b[0m\n\u001b[1;32m    435\u001b[0m \u001b[0;34m\u001b[0m\u001b[0m\n",
      "\u001b[0;32m~/anaconda3/lib/python3.9/site-packages/sklearn/utils/validation.py\u001b[0m in \u001b[0;36minner_f\u001b[0;34m(*args, **kwargs)\u001b[0m\n\u001b[1;32m     61\u001b[0m             \u001b[0mextra_args\u001b[0m \u001b[0;34m=\u001b[0m \u001b[0mlen\u001b[0m\u001b[0;34m(\u001b[0m\u001b[0margs\u001b[0m\u001b[0;34m)\u001b[0m \u001b[0;34m-\u001b[0m \u001b[0mlen\u001b[0m\u001b[0;34m(\u001b[0m\u001b[0mall_args\u001b[0m\u001b[0;34m)\u001b[0m\u001b[0;34m\u001b[0m\u001b[0;34m\u001b[0m\u001b[0m\n\u001b[1;32m     62\u001b[0m             \u001b[0;32mif\u001b[0m \u001b[0mextra_args\u001b[0m \u001b[0;34m<=\u001b[0m \u001b[0;36m0\u001b[0m\u001b[0;34m:\u001b[0m\u001b[0;34m\u001b[0m\u001b[0;34m\u001b[0m\u001b[0m\n\u001b[0;32m---> 63\u001b[0;31m                 \u001b[0;32mreturn\u001b[0m \u001b[0mf\u001b[0m\u001b[0;34m(\u001b[0m\u001b[0;34m*\u001b[0m\u001b[0margs\u001b[0m\u001b[0;34m,\u001b[0m \u001b[0;34m**\u001b[0m\u001b[0mkwargs\u001b[0m\u001b[0;34m)\u001b[0m\u001b[0;34m\u001b[0m\u001b[0;34m\u001b[0m\u001b[0m\n\u001b[0m\u001b[1;32m     64\u001b[0m \u001b[0;34m\u001b[0m\u001b[0m\n\u001b[1;32m     65\u001b[0m             \u001b[0;31m# extra_args > 0\u001b[0m\u001b[0;34m\u001b[0m\u001b[0;34m\u001b[0m\u001b[0m\n",
      "\u001b[0;32m~/anaconda3/lib/python3.9/site-packages/sklearn/utils/validation.py\u001b[0m in \u001b[0;36mcheck_X_y\u001b[0;34m(X, y, accept_sparse, accept_large_sparse, dtype, order, copy, force_all_finite, ensure_2d, allow_nd, multi_output, ensure_min_samples, ensure_min_features, y_numeric, estimator)\u001b[0m\n\u001b[1;32m    869\u001b[0m         \u001b[0;32mraise\u001b[0m \u001b[0mValueError\u001b[0m\u001b[0;34m(\u001b[0m\u001b[0;34m\"y cannot be None\"\u001b[0m\u001b[0;34m)\u001b[0m\u001b[0;34m\u001b[0m\u001b[0;34m\u001b[0m\u001b[0m\n\u001b[1;32m    870\u001b[0m \u001b[0;34m\u001b[0m\u001b[0m\n\u001b[0;32m--> 871\u001b[0;31m     X = check_array(X, accept_sparse=accept_sparse,\n\u001b[0m\u001b[1;32m    872\u001b[0m                     \u001b[0maccept_large_sparse\u001b[0m\u001b[0;34m=\u001b[0m\u001b[0maccept_large_sparse\u001b[0m\u001b[0;34m,\u001b[0m\u001b[0;34m\u001b[0m\u001b[0;34m\u001b[0m\u001b[0m\n\u001b[1;32m    873\u001b[0m                     \u001b[0mdtype\u001b[0m\u001b[0;34m=\u001b[0m\u001b[0mdtype\u001b[0m\u001b[0;34m,\u001b[0m \u001b[0morder\u001b[0m\u001b[0;34m=\u001b[0m\u001b[0morder\u001b[0m\u001b[0;34m,\u001b[0m \u001b[0mcopy\u001b[0m\u001b[0;34m=\u001b[0m\u001b[0mcopy\u001b[0m\u001b[0;34m,\u001b[0m\u001b[0;34m\u001b[0m\u001b[0;34m\u001b[0m\u001b[0m\n",
      "\u001b[0;32m~/anaconda3/lib/python3.9/site-packages/sklearn/utils/validation.py\u001b[0m in \u001b[0;36minner_f\u001b[0;34m(*args, **kwargs)\u001b[0m\n\u001b[1;32m     61\u001b[0m             \u001b[0mextra_args\u001b[0m \u001b[0;34m=\u001b[0m \u001b[0mlen\u001b[0m\u001b[0;34m(\u001b[0m\u001b[0margs\u001b[0m\u001b[0;34m)\u001b[0m \u001b[0;34m-\u001b[0m \u001b[0mlen\u001b[0m\u001b[0;34m(\u001b[0m\u001b[0mall_args\u001b[0m\u001b[0;34m)\u001b[0m\u001b[0;34m\u001b[0m\u001b[0;34m\u001b[0m\u001b[0m\n\u001b[1;32m     62\u001b[0m             \u001b[0;32mif\u001b[0m \u001b[0mextra_args\u001b[0m \u001b[0;34m<=\u001b[0m \u001b[0;36m0\u001b[0m\u001b[0;34m:\u001b[0m\u001b[0;34m\u001b[0m\u001b[0;34m\u001b[0m\u001b[0m\n\u001b[0;32m---> 63\u001b[0;31m                 \u001b[0;32mreturn\u001b[0m \u001b[0mf\u001b[0m\u001b[0;34m(\u001b[0m\u001b[0;34m*\u001b[0m\u001b[0margs\u001b[0m\u001b[0;34m,\u001b[0m \u001b[0;34m**\u001b[0m\u001b[0mkwargs\u001b[0m\u001b[0;34m)\u001b[0m\u001b[0;34m\u001b[0m\u001b[0;34m\u001b[0m\u001b[0m\n\u001b[0m\u001b[1;32m     64\u001b[0m \u001b[0;34m\u001b[0m\u001b[0m\n\u001b[1;32m     65\u001b[0m             \u001b[0;31m# extra_args > 0\u001b[0m\u001b[0;34m\u001b[0m\u001b[0;34m\u001b[0m\u001b[0m\n",
      "\u001b[0;32m~/anaconda3/lib/python3.9/site-packages/sklearn/utils/validation.py\u001b[0m in \u001b[0;36mcheck_array\u001b[0;34m(array, accept_sparse, accept_large_sparse, dtype, order, copy, force_all_finite, ensure_2d, allow_nd, ensure_min_samples, ensure_min_features, estimator)\u001b[0m\n\u001b[1;32m    692\u001b[0m             \u001b[0;31m# If input is 1D raise error\u001b[0m\u001b[0;34m\u001b[0m\u001b[0;34m\u001b[0m\u001b[0m\n\u001b[1;32m    693\u001b[0m             \u001b[0;32mif\u001b[0m \u001b[0marray\u001b[0m\u001b[0;34m.\u001b[0m\u001b[0mndim\u001b[0m \u001b[0;34m==\u001b[0m \u001b[0;36m1\u001b[0m\u001b[0;34m:\u001b[0m\u001b[0;34m\u001b[0m\u001b[0;34m\u001b[0m\u001b[0m\n\u001b[0;32m--> 694\u001b[0;31m                 raise ValueError(\n\u001b[0m\u001b[1;32m    695\u001b[0m                     \u001b[0;34m\"Expected 2D array, got 1D array instead:\\narray={}.\\n\"\u001b[0m\u001b[0;34m\u001b[0m\u001b[0;34m\u001b[0m\u001b[0m\n\u001b[1;32m    696\u001b[0m                     \u001b[0;34m\"Reshape your data either using array.reshape(-1, 1) if \"\u001b[0m\u001b[0;34m\u001b[0m\u001b[0;34m\u001b[0m\u001b[0m\n",
      "\u001b[0;31mValueError\u001b[0m: Expected 2D array, got 1D array instead:\narray=[1 2 3 4 5 6 7 8 9].\nReshape your data either using array.reshape(-1, 1) if your data has a single feature or array.reshape(1, -1) if it contains a single sample."
     ]
    }
   ],
   "source": [
    "nee = linear_model.LinearRegression()\n",
    "nee.fit(ds[0], ds[1])"
   ]
  },
  {
   "cell_type": "code",
   "execution_count": null,
   "id": "bbb46dd1",
   "metadata": {},
   "outputs": [],
   "source": []
  },
  {
   "cell_type": "code",
   "execution_count": 303,
   "id": "7ac0b62f",
   "metadata": {
    "scrolled": true
   },
   "outputs": [
    {
     "data": {
      "text/html": [
       "<div>\n",
       "<style scoped>\n",
       "    .dataframe tbody tr th:only-of-type {\n",
       "        vertical-align: middle;\n",
       "    }\n",
       "\n",
       "    .dataframe tbody tr th {\n",
       "        vertical-align: top;\n",
       "    }\n",
       "\n",
       "    .dataframe thead th {\n",
       "        text-align: right;\n",
       "    }\n",
       "</style>\n",
       "<table border=\"1\" class=\"dataframe\">\n",
       "  <thead>\n",
       "    <tr style=\"text-align: right;\">\n",
       "      <th></th>\n",
       "      <th>0</th>\n",
       "      <th>1</th>\n",
       "      <th>2</th>\n",
       "    </tr>\n",
       "  </thead>\n",
       "  <tbody>\n",
       "    <tr>\n",
       "      <th>0</th>\n",
       "      <td>3.67</td>\n",
       "      <td>3.94</td>\n",
       "      <td>0.91</td>\n",
       "    </tr>\n",
       "    <tr>\n",
       "      <th>1</th>\n",
       "      <td>3.62</td>\n",
       "      <td>3.77</td>\n",
       "      <td>0.92</td>\n",
       "    </tr>\n",
       "    <tr>\n",
       "      <th>2</th>\n",
       "      <td>3.60</td>\n",
       "      <td>3.60</td>\n",
       "      <td>0.94</td>\n",
       "    </tr>\n",
       "    <tr>\n",
       "      <th>3</th>\n",
       "      <td>6.02</td>\n",
       "      <td>6.80</td>\n",
       "      <td>0.95</td>\n",
       "    </tr>\n",
       "    <tr>\n",
       "      <th>4</th>\n",
       "      <td>7.36</td>\n",
       "      <td>8.25</td>\n",
       "      <td>0.95</td>\n",
       "    </tr>\n",
       "    <tr>\n",
       "      <th>5</th>\n",
       "      <td>3.98</td>\n",
       "      <td>4.29</td>\n",
       "      <td>0.95</td>\n",
       "    </tr>\n",
       "    <tr>\n",
       "      <th>6</th>\n",
       "      <td>4.40</td>\n",
       "      <td>4.91</td>\n",
       "      <td>0.95</td>\n",
       "    </tr>\n",
       "    <tr>\n",
       "      <th>7</th>\n",
       "      <td>6.90</td>\n",
       "      <td>8.00</td>\n",
       "      <td>0.96</td>\n",
       "    </tr>\n",
       "    <tr>\n",
       "      <th>8</th>\n",
       "      <td>3.73</td>\n",
       "      <td>3.75</td>\n",
       "      <td>0.96</td>\n",
       "    </tr>\n",
       "    <tr>\n",
       "      <th>9</th>\n",
       "      <td>5.00</td>\n",
       "      <td>5.57</td>\n",
       "      <td>0.96</td>\n",
       "    </tr>\n",
       "    <tr>\n",
       "      <th>10</th>\n",
       "      <td>4.15</td>\n",
       "      <td>4.31</td>\n",
       "      <td>0.97</td>\n",
       "    </tr>\n",
       "    <tr>\n",
       "      <th>11</th>\n",
       "      <td>6.59</td>\n",
       "      <td>7.45</td>\n",
       "      <td>0.98</td>\n",
       "    </tr>\n",
       "    <tr>\n",
       "      <th>12</th>\n",
       "      <td>4.78</td>\n",
       "      <td>5.34</td>\n",
       "      <td>0.98</td>\n",
       "    </tr>\n",
       "    <tr>\n",
       "      <th>13</th>\n",
       "      <td>4.51</td>\n",
       "      <td>4.83</td>\n",
       "      <td>0.98</td>\n",
       "    </tr>\n",
       "    <tr>\n",
       "      <th>14</th>\n",
       "      <td>5.05</td>\n",
       "      <td>5.54</td>\n",
       "      <td>0.99</td>\n",
       "    </tr>\n",
       "    <tr>\n",
       "      <th>15</th>\n",
       "      <td>3.95</td>\n",
       "      <td>4.05</td>\n",
       "      <td>1.00</td>\n",
       "    </tr>\n",
       "    <tr>\n",
       "      <th>16</th>\n",
       "      <td>4.37</td>\n",
       "      <td>4.45</td>\n",
       "      <td>1.00</td>\n",
       "    </tr>\n",
       "    <tr>\n",
       "      <th>17</th>\n",
       "      <td>4.35</td>\n",
       "      <td>4.80</td>\n",
       "      <td>1.00</td>\n",
       "    </tr>\n",
       "    <tr>\n",
       "      <th>18</th>\n",
       "      <td>6.00</td>\n",
       "      <td>6.50</td>\n",
       "      <td>1.02</td>\n",
       "    </tr>\n",
       "    <tr>\n",
       "      <th>19</th>\n",
       "      <td>5.65</td>\n",
       "      <td>6.25</td>\n",
       "      <td>1.03</td>\n",
       "    </tr>\n",
       "    <tr>\n",
       "      <th>20</th>\n",
       "      <td>6.38</td>\n",
       "      <td>7.10</td>\n",
       "      <td>1.08</td>\n",
       "    </tr>\n",
       "    <tr>\n",
       "      <th>21</th>\n",
       "      <td>5.06</td>\n",
       "      <td>5.69</td>\n",
       "      <td>1.08</td>\n",
       "    </tr>\n",
       "    <tr>\n",
       "      <th>22</th>\n",
       "      <td>8.70</td>\n",
       "      <td>9.90</td>\n",
       "      <td>1.10</td>\n",
       "    </tr>\n",
       "    <tr>\n",
       "      <th>23</th>\n",
       "      <td>7.30</td>\n",
       "      <td>8.50</td>\n",
       "      <td>1.11</td>\n",
       "    </tr>\n",
       "    <tr>\n",
       "      <th>24</th>\n",
       "      <td>4.25</td>\n",
       "      <td>4.23</td>\n",
       "      <td>1.11</td>\n",
       "    </tr>\n",
       "    <tr>\n",
       "      <th>25</th>\n",
       "      <td>4.30</td>\n",
       "      <td>4.31</td>\n",
       "      <td>1.12</td>\n",
       "    </tr>\n",
       "    <tr>\n",
       "      <th>26</th>\n",
       "      <td>3.85</td>\n",
       "      <td>3.86</td>\n",
       "      <td>1.12</td>\n",
       "    </tr>\n",
       "    <tr>\n",
       "      <th>27</th>\n",
       "      <td>4.51</td>\n",
       "      <td>4.83</td>\n",
       "      <td>1.13</td>\n",
       "    </tr>\n",
       "    <tr>\n",
       "      <th>28</th>\n",
       "      <td>4.70</td>\n",
       "      <td>4.80</td>\n",
       "      <td>1.13</td>\n",
       "    </tr>\n",
       "    <tr>\n",
       "      <th>29</th>\n",
       "      <td>4.05</td>\n",
       "      <td>4.00</td>\n",
       "      <td>1.13</td>\n",
       "    </tr>\n",
       "    <tr>\n",
       "      <th>30</th>\n",
       "      <td>5.15</td>\n",
       "      <td>5.34</td>\n",
       "      <td>1.15</td>\n",
       "    </tr>\n",
       "    <tr>\n",
       "      <th>31</th>\n",
       "      <td>4.10</td>\n",
       "      <td>3.94</td>\n",
       "      <td>1.15</td>\n",
       "    </tr>\n",
       "    <tr>\n",
       "      <th>32</th>\n",
       "      <td>4.30</td>\n",
       "      <td>4.29</td>\n",
       "      <td>1.15</td>\n",
       "    </tr>\n",
       "    <tr>\n",
       "      <th>33</th>\n",
       "      <td>5.25</td>\n",
       "      <td>5.54</td>\n",
       "      <td>1.16</td>\n",
       "    </tr>\n",
       "    <tr>\n",
       "      <th>34</th>\n",
       "      <td>5.53</td>\n",
       "      <td>5.80</td>\n",
       "      <td>1.17</td>\n",
       "    </tr>\n",
       "    <tr>\n",
       "      <th>35</th>\n",
       "      <td>5.00</td>\n",
       "      <td>5.20</td>\n",
       "      <td>1.17</td>\n",
       "    </tr>\n",
       "    <tr>\n",
       "      <th>36</th>\n",
       "      <td>6.80</td>\n",
       "      <td>7.50</td>\n",
       "      <td>1.22</td>\n",
       "    </tr>\n",
       "    <tr>\n",
       "      <th>37</th>\n",
       "      <td>7.30</td>\n",
       "      <td>7.75</td>\n",
       "      <td>1.23</td>\n",
       "    </tr>\n",
       "    <tr>\n",
       "      <th>38</th>\n",
       "      <td>5.85</td>\n",
       "      <td>6.20</td>\n",
       "      <td>1.24</td>\n",
       "    </tr>\n",
       "    <tr>\n",
       "      <th>39</th>\n",
       "      <td>6.48</td>\n",
       "      <td>6.90</td>\n",
       "      <td>1.28</td>\n",
       "    </tr>\n",
       "    <tr>\n",
       "      <th>40</th>\n",
       "      <td>6.15</td>\n",
       "      <td>6.60</td>\n",
       "      <td>1.30</td>\n",
       "    </tr>\n",
       "    <tr>\n",
       "      <th>41</th>\n",
       "      <td>5.50</td>\n",
       "      <td>5.41</td>\n",
       "      <td>1.33</td>\n",
       "    </tr>\n",
       "    <tr>\n",
       "      <th>42</th>\n",
       "      <td>6.40</td>\n",
       "      <td>6.74</td>\n",
       "      <td>1.35</td>\n",
       "    </tr>\n",
       "    <tr>\n",
       "      <th>43</th>\n",
       "      <td>6.57</td>\n",
       "      <td>6.82</td>\n",
       "      <td>1.38</td>\n",
       "    </tr>\n",
       "    <tr>\n",
       "      <th>44</th>\n",
       "      <td>5.65</td>\n",
       "      <td>5.60</td>\n",
       "      <td>1.38</td>\n",
       "    </tr>\n",
       "    <tr>\n",
       "      <th>45</th>\n",
       "      <td>7.47</td>\n",
       "      <td>7.75</td>\n",
       "      <td>1.44</td>\n",
       "    </tr>\n",
       "    <tr>\n",
       "      <th>46</th>\n",
       "      <td>7.65</td>\n",
       "      <td>7.92</td>\n",
       "      <td>1.50</td>\n",
       "    </tr>\n",
       "    <tr>\n",
       "      <th>47</th>\n",
       "      <td>6.10</td>\n",
       "      <td>6.25</td>\n",
       "      <td>1.52</td>\n",
       "    </tr>\n",
       "    <tr>\n",
       "      <th>48</th>\n",
       "      <td>6.80</td>\n",
       "      <td>7.05</td>\n",
       "      <td>1.53</td>\n",
       "    </tr>\n",
       "    <tr>\n",
       "      <th>49</th>\n",
       "      <td>7.92</td>\n",
       "      <td>7.85</td>\n",
       "      <td>1.56</td>\n",
       "    </tr>\n",
       "    <tr>\n",
       "      <th>50</th>\n",
       "      <td>7.00</td>\n",
       "      <td>7.00</td>\n",
       "      <td>1.60</td>\n",
       "    </tr>\n",
       "    <tr>\n",
       "      <th>51</th>\n",
       "      <td>9.10</td>\n",
       "      <td>9.20</td>\n",
       "      <td>1.64</td>\n",
       "    </tr>\n",
       "    <tr>\n",
       "      <th>52</th>\n",
       "      <td>9.50</td>\n",
       "      <td>9.70</td>\n",
       "      <td>1.65</td>\n",
       "    </tr>\n",
       "    <tr>\n",
       "      <th>53</th>\n",
       "      <td>5.95</td>\n",
       "      <td>5.89</td>\n",
       "      <td>1.66</td>\n",
       "    </tr>\n",
       "    <tr>\n",
       "      <th>54</th>\n",
       "      <td>8.00</td>\n",
       "      <td>8.25</td>\n",
       "      <td>1.69</td>\n",
       "    </tr>\n",
       "    <tr>\n",
       "      <th>55</th>\n",
       "      <td>6.81</td>\n",
       "      <td>6.50</td>\n",
       "      <td>1.69</td>\n",
       "    </tr>\n",
       "    <tr>\n",
       "      <th>56</th>\n",
       "      <td>6.65</td>\n",
       "      <td>6.50</td>\n",
       "      <td>1.70</td>\n",
       "    </tr>\n",
       "    <tr>\n",
       "      <th>57</th>\n",
       "      <td>7.24</td>\n",
       "      <td>7.15</td>\n",
       "      <td>1.72</td>\n",
       "    </tr>\n",
       "    <tr>\n",
       "      <th>58</th>\n",
       "      <td>8.61</td>\n",
       "      <td>9.00</td>\n",
       "      <td>1.74</td>\n",
       "    </tr>\n",
       "    <tr>\n",
       "      <th>59</th>\n",
       "      <td>8.80</td>\n",
       "      <td>9.00</td>\n",
       "      <td>1.74</td>\n",
       "    </tr>\n",
       "  </tbody>\n",
       "</table>\n",
       "</div>"
      ],
      "text/plain": [
       "       0     1     2\n",
       "0   3.67  3.94  0.91\n",
       "1   3.62  3.77  0.92\n",
       "2   3.60  3.60  0.94\n",
       "3   6.02  6.80  0.95\n",
       "4   7.36  8.25  0.95\n",
       "5   3.98  4.29  0.95\n",
       "6   4.40  4.91  0.95\n",
       "7   6.90  8.00  0.96\n",
       "8   3.73  3.75  0.96\n",
       "9   5.00  5.57  0.96\n",
       "10  4.15  4.31  0.97\n",
       "11  6.59  7.45  0.98\n",
       "12  4.78  5.34  0.98\n",
       "13  4.51  4.83  0.98\n",
       "14  5.05  5.54  0.99\n",
       "15  3.95  4.05  1.00\n",
       "16  4.37  4.45  1.00\n",
       "17  4.35  4.80  1.00\n",
       "18  6.00  6.50  1.02\n",
       "19  5.65  6.25  1.03\n",
       "20  6.38  7.10  1.08\n",
       "21  5.06  5.69  1.08\n",
       "22  8.70  9.90  1.10\n",
       "23  7.30  8.50  1.11\n",
       "24  4.25  4.23  1.11\n",
       "25  4.30  4.31  1.12\n",
       "26  3.85  3.86  1.12\n",
       "27  4.51  4.83  1.13\n",
       "28  4.70  4.80  1.13\n",
       "29  4.05  4.00  1.13\n",
       "30  5.15  5.34  1.15\n",
       "31  4.10  3.94  1.15\n",
       "32  4.30  4.29  1.15\n",
       "33  5.25  5.54  1.16\n",
       "34  5.53  5.80  1.17\n",
       "35  5.00  5.20  1.17\n",
       "36  6.80  7.50  1.22\n",
       "37  7.30  7.75  1.23\n",
       "38  5.85  6.20  1.24\n",
       "39  6.48  6.90  1.28\n",
       "40  6.15  6.60  1.30\n",
       "41  5.50  5.41  1.33\n",
       "42  6.40  6.74  1.35\n",
       "43  6.57  6.82  1.38\n",
       "44  5.65  5.60  1.38\n",
       "45  7.47  7.75  1.44\n",
       "46  7.65  7.92  1.50\n",
       "47  6.10  6.25  1.52\n",
       "48  6.80  7.05  1.53\n",
       "49  7.92  7.85  1.56\n",
       "50  7.00  7.00  1.60\n",
       "51  9.10  9.20  1.64\n",
       "52  9.50  9.70  1.65\n",
       "53  5.95  5.89  1.66\n",
       "54  8.00  8.25  1.69\n",
       "55  6.81  6.50  1.69\n",
       "56  6.65  6.50  1.70\n",
       "57  7.24  7.15  1.72\n",
       "58  8.61  9.00  1.74\n",
       "59  8.80  9.00  1.74"
      ]
     },
     "execution_count": 303,
     "metadata": {},
     "output_type": "execute_result"
    }
   ],
   "source": [
    "table_3"
   ]
  },
  {
   "cell_type": "code",
   "execution_count": 347,
   "id": "0e16233e",
   "metadata": {},
   "outputs": [],
   "source": [
    "a = [table_3[0], table_3[1]]"
   ]
  },
  {
   "cell_type": "code",
   "execution_count": 383,
   "id": "10157e6c",
   "metadata": {
    "scrolled": true
   },
   "outputs": [],
   "source": [
    "residul = table_3.iloc[:,[1]];"
   ]
  },
  {
   "cell_type": "code",
   "execution_count": 384,
   "id": "9014f69c",
   "metadata": {},
   "outputs": [
    {
     "data": {
      "text/plain": [
       "array([0.07597869])"
      ]
     },
     "execution_count": 384,
     "metadata": {},
     "output_type": "execute_result"
    }
   ],
   "source": [
    "from statsmodels.stats.stattools import durbin_watson\n",
    "\n",
    "durbin_watson(residul)\n"
   ]
  },
  {
   "cell_type": "code",
   "execution_count": 388,
   "id": "0a79bc7c",
   "metadata": {},
   "outputs": [
    {
     "ename": "NameError",
     "evalue": "name 'y_pred' is not defined",
     "output_type": "error",
     "traceback": [
      "\u001b[0;31m---------------------------------------------------------------------------\u001b[0m",
      "\u001b[0;31mNameError\u001b[0m                                 Traceback (most recent call last)",
      "\u001b[0;32m/tmp/ipykernel_863/1541015383.py\u001b[0m in \u001b[0;36m<module>\u001b[0;34m\u001b[0m\n\u001b[0;32m----> 1\u001b[0;31m \u001b[0mplt\u001b[0m\u001b[0;34m.\u001b[0m\u001b[0mscatter\u001b[0m\u001b[0;34m(\u001b[0m\u001b[0my_pred\u001b[0m\u001b[0;34m,\u001b[0m \u001b[0mresidul\u001b[0m\u001b[0;34m)\u001b[0m\u001b[0;34m\u001b[0m\u001b[0;34m\u001b[0m\u001b[0m\n\u001b[0m",
      "\u001b[0;31mNameError\u001b[0m: name 'y_pred' is not defined"
     ]
    }
   ],
   "source": [
    "plt.scatter(y_pred, residul)"
   ]
  },
  {
   "cell_type": "code",
   "execution_count": null,
   "id": "c6b47c46",
   "metadata": {},
   "outputs": [],
   "source": []
  },
  {
   "cell_type": "code",
   "execution_count": 623,
   "id": "c219624e",
   "metadata": {},
   "outputs": [
    {
     "data": {
      "text/plain": [
       "736.0"
      ]
     },
     "execution_count": 623,
     "metadata": {},
     "output_type": "execute_result"
    }
   ],
   "source": [
    "#print(int2['t'] == -0.266667).count()\n",
    "#np.where(int2['t'] == 0)\n",
    "#int2['t'][5919]\n",
    "24.5333//0.033333"
   ]
  },
  {
   "cell_type": "code",
   "execution_count": null,
   "id": "9ce5825e",
   "metadata": {},
   "outputs": [],
   "source": []
  },
  {
   "cell_type": "code",
   "execution_count": null,
   "id": "4e16909d",
   "metadata": {},
   "outputs": [],
   "source": []
  },
  {
   "cell_type": "code",
   "execution_count": null,
   "id": "982281bc",
   "metadata": {},
   "outputs": [],
   "source": []
  }
 ],
 "metadata": {
  "kernelspec": {
   "display_name": "Python 3 (ipykernel)",
   "language": "python",
   "name": "python3"
  },
  "language_info": {
   "codemirror_mode": {
    "name": "ipython",
    "version": 3
   },
   "file_extension": ".py",
   "mimetype": "text/x-python",
   "name": "python",
   "nbconvert_exporter": "python",
   "pygments_lexer": "ipython3",
   "version": "3.9.7"
  }
 },
 "nbformat": 4,
 "nbformat_minor": 5
}
